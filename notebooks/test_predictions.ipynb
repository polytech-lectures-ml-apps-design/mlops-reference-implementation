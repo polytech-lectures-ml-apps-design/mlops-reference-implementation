{
 "cells": [
  {
   "cell_type": "markdown",
   "id": "3c802b94-a0cd-4fa7-9bf7-3a1bf3a79aaa",
   "metadata": {},
   "source": [
    "# Making predictions\n",
    "\n",
    "We use the serving endpoint we created using BentoML to make predictions. For that, we use the `predict_bentoml` helper function that will prepare the request and return the results."
   ]
  },
  {
   "cell_type": "code",
   "execution_count": 9,
   "id": "49037485-60a7-4c56-b1d7-5d106f73d750",
   "metadata": {},
   "outputs": [],
   "source": [
    "def predict_bentoml(input_vec):\n",
    "    import requests\n",
    "    import json\n",
    "\n",
    "    url = \"http://localhost:5001/predict\"\n",
    "    headers = {'Content-Type':'application/json'}\n",
    "    body = input_vec\n",
    "    \n",
    "    http_res = requests.Request('POST', url=url, headers=headers, data=\"{}\".format(input_vec))\n",
    "#     http_res = requests.post(\n",
    "#       url,\n",
    "#       data=\"{}\".format(input_vec),\n",
    "#       headers = headers)\n",
    "    \n",
    "#     print(http_res.prepare())\n",
    "\n",
    "    return http_res.json()"
   ]
  },
  {
   "cell_type": "code",
   "execution_count": 14,
   "id": "e2a7e023",
   "metadata": {},
   "outputs": [],
   "source": [
    "import requests\n",
    "import json"
   ]
  },
  {
   "cell_type": "code",
   "execution_count": 16,
   "id": "5669ccbe",
   "metadata": {},
   "outputs": [],
   "source": [
    "url = \"http://localhost:5001/predict\"\n",
    "headers = {'Content-Type':'application/json'}\n",
    "input_vec = [5.9, 0, 1, 1.8]\n",
    "http_res = requests.Request('POST', url=url, headers=headers, data=\"{}\".format(input_vec))"
   ]
  },
  {
   "cell_type": "code",
   "execution_count": 20,
   "id": "d1ca6a1a",
   "metadata": {},
   "outputs": [],
   "source": [
    "prepared = http_res.prepare()"
   ]
  },
  {
   "cell_type": "code",
   "execution_count": 22,
   "id": "66a92c03",
   "metadata": {
    "scrolled": true
   },
   "outputs": [
    {
     "data": {
      "text/plain": [
       "'http://localhost:5001/predict'"
      ]
     },
     "execution_count": 22,
     "metadata": {},
     "output_type": "execute_result"
    }
   ],
   "source": [
    "prepared.url"
   ]
  },
  {
   "cell_type": "code",
   "execution_count": 23,
   "id": "eb809760",
   "metadata": {},
   "outputs": [
    {
     "data": {
      "text/plain": [
       "'POST'"
      ]
     },
     "execution_count": 23,
     "metadata": {},
     "output_type": "execute_result"
    }
   ],
   "source": [
    "prepared.method"
   ]
  },
  {
   "cell_type": "code",
   "execution_count": 21,
   "id": "a1f2304a",
   "metadata": {},
   "outputs": [
    {
     "data": {
      "text/plain": [
       "{'Content-Type': 'application/json', 'Content-Length': '16'}"
      ]
     },
     "execution_count": 21,
     "metadata": {},
     "output_type": "execute_result"
    }
   ],
   "source": [
    "prepared.headers"
   ]
  },
  {
   "cell_type": "code",
   "execution_count": 24,
   "id": "1d244b11",
   "metadata": {},
   "outputs": [
    {
     "data": {
      "text/plain": [
       "'[5.9, 0, 1, 1.8]'"
      ]
     },
     "execution_count": 24,
     "metadata": {},
     "output_type": "execute_result"
    }
   ],
   "source": [
    "prepared.body"
   ]
  },
  {
   "cell_type": "code",
   "execution_count": 30,
   "id": "98488751",
   "metadata": {},
   "outputs": [],
   "source": [
    "response = requests.Session().send(prepared)"
   ]
  },
  {
   "cell_type": "code",
   "execution_count": 35,
   "id": "0aae30da",
   "metadata": {
    "scrolled": true
   },
   "outputs": [
    {
     "data": {
      "text/plain": [
       "'1'"
      ]
     },
     "execution_count": 35,
     "metadata": {},
     "output_type": "execute_result"
    }
   ],
   "source": [
    "response.text"
   ]
  },
  {
   "cell_type": "code",
   "execution_count": 32,
   "id": "0319a46a",
   "metadata": {
    "scrolled": true
   },
   "outputs": [
    {
     "data": {
      "text/plain": [
       "200"
      ]
     },
     "execution_count": 32,
     "metadata": {},
     "output_type": "execute_result"
    }
   ],
   "source": [
    "response.status_code"
   ]
  },
  {
   "cell_type": "markdown",
   "id": "0dbb6dce-8cb1-4d34-9bac-d3e35c0b4781",
   "metadata": {},
   "source": [
    "## Single prediction\n",
    "\n",
    "Use the code below to test the model you created."
   ]
  },
  {
   "cell_type": "code",
   "execution_count": 10,
   "id": "ce688803-3cee-4a4b-a37e-39a6cf0e94f2",
   "metadata": {},
   "outputs": [
    {
     "ename": "TypeError",
     "evalue": "'NoneType' object is not callable",
     "output_type": "error",
     "traceback": [
      "\u001b[0;31m---------------------------------------------------------------------------\u001b[0m",
      "\u001b[0;31mTypeError\u001b[0m                                 Traceback (most recent call last)",
      "Cell \u001b[0;32mIn[10], line 1\u001b[0m\n\u001b[0;32m----> 1\u001b[0m result \u001b[38;5;241m=\u001b[39m \u001b[43mpredict_bentoml\u001b[49m\u001b[43m(\u001b[49m\u001b[43m[\u001b[49m\u001b[38;5;241;43m5.9\u001b[39;49m\u001b[43m,\u001b[49m\u001b[43m \u001b[49m\u001b[38;5;241;43m0\u001b[39;49m\u001b[43m,\u001b[49m\u001b[43m \u001b[49m\u001b[38;5;241;43m1\u001b[39;49m\u001b[43m,\u001b[49m\u001b[43m \u001b[49m\u001b[38;5;241;43m1.8\u001b[39;49m\u001b[43m]\u001b[49m\u001b[43m)\u001b[49m\n\u001b[1;32m      2\u001b[0m \u001b[38;5;28mprint\u001b[39m(result)\n",
      "Cell \u001b[0;32mIn[9], line 17\u001b[0m, in \u001b[0;36mpredict_bentoml\u001b[0;34m(input_vec)\u001b[0m\n\u001b[1;32m      9\u001b[0m     http_res \u001b[38;5;241m=\u001b[39m requests\u001b[38;5;241m.\u001b[39mRequest(\u001b[38;5;124m'\u001b[39m\u001b[38;5;124mPOST\u001b[39m\u001b[38;5;124m'\u001b[39m, url\u001b[38;5;241m=\u001b[39murl, headers\u001b[38;5;241m=\u001b[39mheaders, data\u001b[38;5;241m=\u001b[39m\u001b[38;5;124m\"\u001b[39m\u001b[38;5;132;01m{}\u001b[39;00m\u001b[38;5;124m\"\u001b[39m\u001b[38;5;241m.\u001b[39mformat(input_vec))\n\u001b[1;32m     10\u001b[0m \u001b[38;5;66;03m#     http_res = requests.post(\u001b[39;00m\n\u001b[1;32m     11\u001b[0m \u001b[38;5;66;03m#       url,\u001b[39;00m\n\u001b[1;32m     12\u001b[0m \u001b[38;5;66;03m#       data=\"{}\".format(input_vec),\u001b[39;00m\n\u001b[1;32m     13\u001b[0m \u001b[38;5;66;03m#       headers = headers)\u001b[39;00m\n\u001b[1;32m     14\u001b[0m     \n\u001b[1;32m     15\u001b[0m \u001b[38;5;66;03m#     print(http_res.prepare())\u001b[39;00m\n\u001b[0;32m---> 17\u001b[0m     \u001b[38;5;28;01mreturn\u001b[39;00m \u001b[43mhttp_res\u001b[49m\u001b[38;5;241;43m.\u001b[39;49m\u001b[43mjson\u001b[49m\u001b[43m(\u001b[49m\u001b[43m)\u001b[49m\n",
      "\u001b[0;31mTypeError\u001b[0m: 'NoneType' object is not callable"
     ]
    }
   ],
   "source": [
    "result = predict_bentoml([5.9, 0, 1, 1.8])\n",
    "print(result)"
   ]
  },
  {
   "cell_type": "markdown",
   "id": "8ab06a06-06b9-4bb0-9dd7-61d83ecc5ceb",
   "metadata": {},
   "source": [
    "## Simulating many requests\n",
    "\n",
    "Run the code below to simulate a continuous flux of requests. You can then head over to Grafana to observe your model server metrics."
   ]
  },
  {
   "cell_type": "code",
   "execution_count": null,
   "id": "49127faa-5259-4c46-8646-6afe5643f9a3",
   "metadata": {},
   "outputs": [],
   "source": [
    "from time import sleep\n",
    "from random import choice, randint\n",
    "\n",
    "# sentences = [\"love ya\", \"you suck man!\"]\n",
    "\n",
    "# while True:\n",
    "#     sleep(randint(50,100)/100)\n",
    "#     predict_bentoml(choice(sentences))"
   ]
  }
 ],
 "metadata": {
  "kernelspec": {
   "display_name": "Python 3 (ipykernel)",
   "language": "python",
   "name": "python3"
  },
  "language_info": {
   "codemirror_mode": {
    "name": "ipython",
    "version": 3
   },
   "file_extension": ".py",
   "mimetype": "text/x-python",
   "name": "python",
   "nbconvert_exporter": "python",
   "pygments_lexer": "ipython3",
   "version": "3.8.15"
  }
 },
 "nbformat": 4,
 "nbformat_minor": 5
}
