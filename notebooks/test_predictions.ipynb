{
 "cells": [
  {
   "cell_type": "markdown",
   "id": "3c802b94-a0cd-4fa7-9bf7-3a1bf3a79aaa",
   "metadata": {},
   "source": [
    "# Making predictions\n",
    "\n",
    "We use the serving endpoint we created using BentoML to make predictions. For that, we use the `predict_bentoml` helper function that will prepare the request and return the results."
   ]
  },
  {
   "cell_type": "code",
   "execution_count": 1,
   "id": "49037485-60a7-4c56-b1d7-5d106f73d750",
   "metadata": {},
   "outputs": [],
   "source": [
    "def predict_bentoml(input_vec):\n",
    "    import requests\n",
    "    import json\n",
    "\n",
    "    url = \"http://localhost:5001/predict\"\n",
    "    headers = {'Content-Type':'application/json'}\n",
    "    body = input_vec\n",
    "    \n",
    "    http_res = requests.post(\n",
    "      url,\n",
    "      data=\"{}\".format(input_vec),\n",
    "      headers = headers)\n",
    "\n",
    "    return http_res.json()"
   ]
  },
  {
   "cell_type": "markdown",
   "id": "0dbb6dce-8cb1-4d34-9bac-d3e35c0b4781",
   "metadata": {},
   "source": [
    "## Single prediction\n",
    "\n",
    "Use the code below to test the model you created."
   ]
  },
  {
   "cell_type": "code",
   "execution_count": 2,
   "id": "ce688803-3cee-4a4b-a37e-39a6cf0e94f2",
   "metadata": {},
   "outputs": [
    {
     "name": "stdout",
     "output_type": "stream",
     "text": [
      "2\n"
     ]
    }
   ],
   "source": [
    "result = predict_bentoml([5.9, 3, 5.1, 1.8])\n",
    "print(result)"
   ]
  },
  {
   "cell_type": "markdown",
   "id": "8ab06a06-06b9-4bb0-9dd7-61d83ecc5ceb",
   "metadata": {},
   "source": [
    "## Simulating many requests\n",
    "\n",
    "Run the code below to simulate a continuous flux of requests. You can then head over to Grafana to observe your model server metrics."
   ]
  },
  {
   "cell_type": "code",
   "execution_count": null,
   "id": "49127faa-5259-4c46-8646-6afe5643f9a3",
   "metadata": {},
   "outputs": [],
   "source": [
    "from time import sleep\n",
    "from random import choice, randint\n",
    "\n",
    "# sentences = [\"love ya\", \"you suck man!\"]\n",
    "\n",
    "# while True:\n",
    "#     sleep(randint(50,100)/100)\n",
    "#     predict_bentoml(choice(sentences))"
   ]
  }
 ],
 "metadata": {
  "kernelspec": {
   "display_name": "Python 3 (ipykernel)",
   "language": "python",
   "name": "python3"
  },
  "language_info": {
   "codemirror_mode": {
    "name": "ipython",
    "version": 3
   },
   "file_extension": ".py",
   "mimetype": "text/x-python",
   "name": "python",
   "nbconvert_exporter": "python",
   "pygments_lexer": "ipython3",
   "version": "3.8.15"
  }
 },
 "nbformat": 4,
 "nbformat_minor": 5
}
